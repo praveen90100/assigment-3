{
 "cells": [
  {
   "cell_type": "code",
   "execution_count": 10,
   "id": "eb8a5faf",
   "metadata": {},
   "outputs": [],
   "source": [
    "#student name :- Praveen Kumar Reddy Kondampalli\n",
    "#student id :- 21032370"
   ]
  },
  {
   "cell_type": "markdown",
   "id": "5d1adb4f",
   "metadata": {},
   "source": [
    "# Looking at Population, Income and CO2 Emissions in detail"
   ]
  },
  {
   "cell_type": "markdown",
   "id": "09f66052",
   "metadata": {},
   "source": [
    "### Import the libraries needed"
   ]
  },
  {
   "cell_type": "code",
   "execution_count": 13,
   "id": "1faacf77",
   "metadata": {},
   "outputs": [],
   "source": [
    "import pandas as pd\n",
    "import matplotlib.pyplot as plt\n",
    "%matplotlib inline\n",
    "import numpy as np"
   ]
  },
  {
   "cell_type": "code",
   "execution_count": 17,
   "id": "d6206085",
   "metadata": {},
   "outputs": [],
   "source": [
    "population = r'Population.csv'\n",
    "income = r'Income.csv'\n",
    "co2 = r'co2_emissions_tonnes_per_person.csv'\n",
    "df_pop = pd.read_csv(population)\n",
    "df_income = pd.read_csv(income)\n",
    "df_co2 = pd.read_csv(co2)\n"
   ]
  },
  {
   "cell_type": "code",
   "execution_count": 18,
   "id": "185a2415",
   "metadata": {},
   "outputs": [
    {
     "data": {
      "text/html": [
       "<div>\n",
       "<style scoped>\n",
       "    .dataframe tbody tr th:only-of-type {\n",
       "        vertical-align: middle;\n",
       "    }\n",
       "\n",
       "    .dataframe tbody tr th {\n",
       "        vertical-align: top;\n",
       "    }\n",
       "\n",
       "    .dataframe thead th {\n",
       "        text-align: right;\n",
       "    }\n",
       "</style>\n",
       "<table border=\"1\" class=\"dataframe\">\n",
       "  <thead>\n",
       "    <tr style=\"text-align: right;\">\n",
       "      <th></th>\n",
       "      <th>Year</th>\n",
       "      <th>Afghanistan</th>\n",
       "      <th>Albania</th>\n",
       "      <th>Algeria</th>\n",
       "      <th>Andorra</th>\n",
       "      <th>Angola</th>\n",
       "      <th>Antigua and Barbuda</th>\n",
       "      <th>Argentina</th>\n",
       "      <th>Armenia</th>\n",
       "      <th>Australia</th>\n",
       "      <th>...</th>\n",
       "      <th>United Kingdom</th>\n",
       "      <th>United States</th>\n",
       "      <th>Uruguay</th>\n",
       "      <th>Uzbekistan</th>\n",
       "      <th>Vanuatu</th>\n",
       "      <th>Venezuela</th>\n",
       "      <th>Vietnam</th>\n",
       "      <th>Yemen</th>\n",
       "      <th>Zambia</th>\n",
       "      <th>Zimbabwe</th>\n",
       "    </tr>\n",
       "  </thead>\n",
       "  <tbody>\n",
       "    <tr>\n",
       "      <th>0</th>\n",
       "      <td>1800</td>\n",
       "      <td>3280000</td>\n",
       "      <td>410000</td>\n",
       "      <td>2500000</td>\n",
       "      <td>2650</td>\n",
       "      <td>1570000</td>\n",
       "      <td>37000</td>\n",
       "      <td>534000</td>\n",
       "      <td>413000</td>\n",
       "      <td>351000</td>\n",
       "      <td>...</td>\n",
       "      <td>12300000</td>\n",
       "      <td>6800000</td>\n",
       "      <td>55000</td>\n",
       "      <td>1920000</td>\n",
       "      <td>27800</td>\n",
       "      <td>718000</td>\n",
       "      <td>6550000</td>\n",
       "      <td>2590000</td>\n",
       "      <td>747000</td>\n",
       "      <td>1090000</td>\n",
       "    </tr>\n",
       "    <tr>\n",
       "      <th>1</th>\n",
       "      <td>1801</td>\n",
       "      <td>3280000</td>\n",
       "      <td>412000</td>\n",
       "      <td>2510000</td>\n",
       "      <td>2650</td>\n",
       "      <td>1570000</td>\n",
       "      <td>37000</td>\n",
       "      <td>534000</td>\n",
       "      <td>413000</td>\n",
       "      <td>350000</td>\n",
       "      <td>...</td>\n",
       "      <td>12500000</td>\n",
       "      <td>6930000</td>\n",
       "      <td>55000</td>\n",
       "      <td>1920000</td>\n",
       "      <td>27800</td>\n",
       "      <td>718000</td>\n",
       "      <td>6550000</td>\n",
       "      <td>2590000</td>\n",
       "      <td>747000</td>\n",
       "      <td>1090000</td>\n",
       "    </tr>\n",
       "    <tr>\n",
       "      <th>2</th>\n",
       "      <td>1802</td>\n",
       "      <td>3280000</td>\n",
       "      <td>413000</td>\n",
       "      <td>2520000</td>\n",
       "      <td>2650</td>\n",
       "      <td>1570000</td>\n",
       "      <td>37000</td>\n",
       "      <td>534000</td>\n",
       "      <td>413000</td>\n",
       "      <td>349000</td>\n",
       "      <td>...</td>\n",
       "      <td>12600000</td>\n",
       "      <td>7070000</td>\n",
       "      <td>55000</td>\n",
       "      <td>1920000</td>\n",
       "      <td>27800</td>\n",
       "      <td>718000</td>\n",
       "      <td>6550000</td>\n",
       "      <td>2590000</td>\n",
       "      <td>747000</td>\n",
       "      <td>1090000</td>\n",
       "    </tr>\n",
       "    <tr>\n",
       "      <th>3</th>\n",
       "      <td>1803</td>\n",
       "      <td>3280000</td>\n",
       "      <td>414000</td>\n",
       "      <td>2530000</td>\n",
       "      <td>2650</td>\n",
       "      <td>1570000</td>\n",
       "      <td>37000</td>\n",
       "      <td>534000</td>\n",
       "      <td>413000</td>\n",
       "      <td>348000</td>\n",
       "      <td>...</td>\n",
       "      <td>12800000</td>\n",
       "      <td>7200000</td>\n",
       "      <td>55000</td>\n",
       "      <td>1920000</td>\n",
       "      <td>27800</td>\n",
       "      <td>718000</td>\n",
       "      <td>6550000</td>\n",
       "      <td>2590000</td>\n",
       "      <td>747000</td>\n",
       "      <td>1090000</td>\n",
       "    </tr>\n",
       "    <tr>\n",
       "      <th>4</th>\n",
       "      <td>1804</td>\n",
       "      <td>3280000</td>\n",
       "      <td>416000</td>\n",
       "      <td>2540000</td>\n",
       "      <td>2650</td>\n",
       "      <td>1570000</td>\n",
       "      <td>37000</td>\n",
       "      <td>534000</td>\n",
       "      <td>413000</td>\n",
       "      <td>348000</td>\n",
       "      <td>...</td>\n",
       "      <td>13000000</td>\n",
       "      <td>7340000</td>\n",
       "      <td>55000</td>\n",
       "      <td>1920000</td>\n",
       "      <td>27800</td>\n",
       "      <td>718000</td>\n",
       "      <td>6550000</td>\n",
       "      <td>2590000</td>\n",
       "      <td>747000</td>\n",
       "      <td>1090000</td>\n",
       "    </tr>\n",
       "  </tbody>\n",
       "</table>\n",
       "<p>5 rows × 196 columns</p>\n",
       "</div>"
      ],
      "text/plain": [
       "   Year  Afghanistan  Albania  Algeria  Andorra   Angola  Antigua and Barbuda  \\\n",
       "0  1800      3280000   410000  2500000     2650  1570000                37000   \n",
       "1  1801      3280000   412000  2510000     2650  1570000                37000   \n",
       "2  1802      3280000   413000  2520000     2650  1570000                37000   \n",
       "3  1803      3280000   414000  2530000     2650  1570000                37000   \n",
       "4  1804      3280000   416000  2540000     2650  1570000                37000   \n",
       "\n",
       "   Argentina  Armenia  Australia  ...  United Kingdom  United States  Uruguay  \\\n",
       "0     534000   413000     351000  ...        12300000        6800000    55000   \n",
       "1     534000   413000     350000  ...        12500000        6930000    55000   \n",
       "2     534000   413000     349000  ...        12600000        7070000    55000   \n",
       "3     534000   413000     348000  ...        12800000        7200000    55000   \n",
       "4     534000   413000     348000  ...        13000000        7340000    55000   \n",
       "\n",
       "   Uzbekistan  Vanuatu  Venezuela  Vietnam    Yemen  Zambia  Zimbabwe  \n",
       "0     1920000    27800     718000  6550000  2590000  747000   1090000  \n",
       "1     1920000    27800     718000  6550000  2590000  747000   1090000  \n",
       "2     1920000    27800     718000  6550000  2590000  747000   1090000  \n",
       "3     1920000    27800     718000  6550000  2590000  747000   1090000  \n",
       "4     1920000    27800     718000  6550000  2590000  747000   1090000  \n",
       "\n",
       "[5 rows x 196 columns]"
      ]
     },
     "execution_count": 18,
     "metadata": {},
     "output_type": "execute_result"
    }
   ],
   "source": [
    "df_pop.head() "
   ]
  },
  {
   "cell_type": "code",
   "execution_count": 19,
   "id": "dd135df1",
   "metadata": {},
   "outputs": [
    {
     "data": {
      "text/plain": [
       "0"
      ]
     },
     "execution_count": 19,
     "metadata": {},
     "output_type": "execute_result"
    }
   ],
   "source": [
    "df_pop.isnull().sum().sum() "
   ]
  },
  {
   "cell_type": "code",
   "execution_count": 21,
   "id": "003f7ebf",
   "metadata": {},
   "outputs": [
    {
     "name": "stderr",
     "output_type": "stream",
     "text": [
      "No handles with labels found to put in legend.\n"
     ]
    },
    {
     "data": {
      "image/png": "[encoded data removed]",
      "text/plain": [
       "<Figure size 1080x720 with 1 Axes>"
      ]
     },
     "metadata": {
      "needs_background": "light"
     },
     "output_type": "display_data"
    }
   ],
   "source": [
    "plt.figure(figsize=(15,10))\n",
    "plt.plot(df_pop['Year'], df_pop.Australia, color='red') # plotting population of Australia with respect to year\n",
    "plt.plot(df_pop['Year'], df_pop.China, color='green') # plotting population of China with respect to year \n",
    "plt.plot(df_pop['Year'], df_pop['United States'], color='blue') # plotting population of United States with respect to year\n",
    "plt.legend()\n",
    "plt.xlabel('Year')\n",
    "plt.ylabel('Population')\n",
    "plt.show()"
   ]
  },
  {
   "cell_type": "markdown",
   "id": "d64aa7b1",
   "metadata": {},
   "source": [
    "####  Plot the linear fit of a Python linear regression to the data of the Chinese population"
   ]
  },
  {
   "cell_type": "code",
   "execution_count": 22,
   "id": "fd264fcb",
   "metadata": {},
   "outputs": [],
   "source": [
    "from scipy.stats import linregress\n",
    "slope, intercept, r_value, p_value, std_err = linregress(df_pop['Year'], df_pop['China'])\n",
    "line = [slope*xi + intercept for xi in df_pop['Year']]\n"
   ]
  },
  {
   "cell_type": "code",
   "execution_count": 23,
   "id": "022b1734",
   "metadata": {},
   "outputs": [
    {
     "name": "stderr",
     "output_type": "stream",
     "text": [
      "No handles with labels found to put in legend.\n"
     ]
    },
    {
     "data": {
      "image/png": "[encoded data removed]",
      "text/plain": [
       "<Figure size 1080x720 with 1 Axes>"
      ]
     },
     "metadata": {
      "needs_background": "light"
     },
     "output_type": "display_data"
    },
    {
     "name": "stdout",
     "output_type": "stream",
     "text": [
      "The r_value is: 0.8446245854164944\n"
     ]
    }
   ],
   "source": [
    "plt.figure(figsize=(15,10))\n",
    "plt.plot(df_pop['Year'], line,'r-', linewidth=5) # plotting linear line regression\n",
    "plt.scatter(df_pop['Year'], df_pop['China']) # plotting population of China\n",
    "plt.legend()\n",
    "plt.xlabel('Year')\n",
    "plt.ylabel('Population')\n",
    "plt.show()\n",
    "print(\"The r_value is:\", r_value) # printing r_value"
   ]
  },
  {
   "cell_type": "code",
   "execution_count": null,
   "id": "5b005a06",
   "metadata": {},
   "outputs": [],
   "source": []
  }
 ],
 "metadata": {
  "kernelspec": {
   "display_name": "Python 3 (ipykernel)",
   "language": "python",
   "name": "python3"
  },
  "language_info": {
   "codemirror_mode": {
    "name": "ipython",
    "version": 3
   },
   "file_extension": ".py",
   "mimetype": "text/x-python",
   "name": "python",
   "nbconvert_exporter": "python",
   "pygments_lexer": "ipython3",
   "version": "3.9.7"
  }
 },
 "nbformat": 4,
 "nbformat_minor": 5
}
